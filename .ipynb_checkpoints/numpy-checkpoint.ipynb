{
 "cells": [
  {
   "cell_type": "code",
   "execution_count": 62,
   "id": "f684e16b-0128-40c5-a3fd-f5b486140d95",
   "metadata": {},
   "outputs": [],
   "source": [
    "import numpy as np\n",
    "import pandas as pd"
   ]
  },
  {
   "cell_type": "markdown",
   "id": "7bd5da5c-394b-4ba9-97f3-337492019a92",
   "metadata": {},
   "source": [
    "## Exercise 1: Creating Arrays\n",
    "**Objective:** Learn to create and manipulate NumPy arrays.\n",
    "\n",
    "1. Create 1D array:"
   ]
  },
  {
   "cell_type": "code",
   "execution_count": 17,
   "id": "fd258797-c4a1-411c-aa43-031a652aa754",
   "metadata": {},
   "outputs": [
    {
     "data": {
      "text/plain": [
       "array([1, 2, 3])"
      ]
     },
     "execution_count": 17,
     "metadata": {},
     "output_type": "execute_result"
    }
   ],
   "source": [
    "arr = np.array([1, 2, 3])\n",
    "arr"
   ]
  },
  {
   "cell_type": "markdown",
   "id": "0f71251a-71d5-4f3f-aee6-c0221e9ba5cf",
   "metadata": {},
   "source": [
    "2. Create 2D array:"
   ]
  },
  {
   "cell_type": "code",
   "execution_count": 19,
   "id": "ca3ca9ee-5297-46d8-8dd7-a4816e377a70",
   "metadata": {},
   "outputs": [
    {
     "data": {
      "text/plain": [
       "array([[1, 2, 3],\n",
       "       [4, 5, 6]])"
      ]
     },
     "execution_count": 19,
     "metadata": {},
     "output_type": "execute_result"
    }
   ],
   "source": [
    "arr_2d = np.array([[1, 2, 3],\n",
    "                   [4, 5, 6]])\n",
    "arr_2d"
   ]
  },
  {
   "cell_type": "markdown",
   "id": "d5d49640-c31b-4bf3-8007-7f089bb8143d",
   "metadata": {},
   "source": [
    "3. Create arrays with built-in functions:"
   ]
  },
  {
   "cell_type": "code",
   "execution_count": 15,
   "id": "907499f6-9974-40fc-bbe0-afff7cb7dd94",
   "metadata": {},
   "outputs": [
    {
     "name": "stdout",
     "output_type": "stream",
     "text": [
      "[[0. 0. 0.]\n",
      " [0. 0. 0.]\n",
      " [0. 0. 0.]]\n",
      "[[1. 1. 1. 1.]\n",
      " [1. 1. 1. 1.]]\n",
      "[0 1 2 3 4 5 6 7 8 9]\n"
     ]
    }
   ],
   "source": [
    "zeros = np.zeros((3, 3))\n",
    "ones = np.ones((2, 4))\n",
    "range_arr = np.arange(10)\n",
    "\n",
    "print(zeros)\n",
    "print(ones)\n",
    "print(range_arr)"
   ]
  },
  {
   "cell_type": "markdown",
   "id": "202de65a-1570-4224-b251-04199a683e85",
   "metadata": {},
   "source": [
    "The more important attributes of an `ndarray` object:\n",
    "\n",
    "- **ndim**: number of dimensions of the array (ex: 3D)\n",
    "- **shape**: (n, m)\n",
    "- **size**: total number of elements of the array\n",
    "- **dtype**: <em>(object)</em> [doc](https://numpy.org/doc/stable/reference/arrays.dtypes.html#arrays-dtypes) refer to the sidebar for a list of attributes of dtype\n",
    "- **itemsize**: bytes size of each element\n",
    "- **data**: buffer of elements"
   ]
  },
  {
   "cell_type": "code",
   "execution_count": 46,
   "id": "a50e11b9-448e-43d2-86d8-0338a18e91f2",
   "metadata": {},
   "outputs": [
    {
     "name": "stdout",
     "output_type": "stream",
     "text": [
      "[[[ 0  1  2]\n",
      "  [ 3  4  5]\n",
      "  [ 6  7  8]]\n",
      "\n",
      " [[ 9 10 11]\n",
      "  [12 13 14]\n",
      "  [15 16 17]]\n",
      "\n",
      " [[18 19 20]\n",
      "  [21 22 23]\n",
      "  [24 25 26]]]\n",
      "Matrix of (3, 3, 3) elements\n",
      "This is a 3D matrix\n",
      "Elements are of type: int64\n",
      "Each element has a size of: 8 bytes\n",
      "The matrix has 27 elements\n",
      "<class 'numpy.ndarray'>\n"
     ]
    }
   ],
   "source": [
    "a = np.arange(27).reshape(3, 3, 3)\n",
    "\n",
    "print(a)\n",
    "\n",
    "print(f\"Matrix of {a.shape} elements\")\n",
    "print(f\"This is a {a.ndim}D matrix\")\n",
    "print(f\"Elements are of type: {a.dtype.name}\")\n",
    "print(f\"Each element has a size of: {a.itemsize} bytes\")\n",
    "print(f\"The matrix has {a.size} elements\")\n",
    "\n",
    "print(type(a))"
   ]
  },
  {
   "cell_type": "markdown",
   "id": "6feb3cc6-5d99-4899-b4b2-5186bec865e8",
   "metadata": {},
   "source": [
    "## Excercise 2: Array operations\n",
    "**Objective**: Perform basic arithmetic and manipulation on arrays\n",
    "\n",
    "1. Element-wise operations:"
   ]
  },
  {
   "cell_type": "code",
   "execution_count": 52,
   "id": "91965130-891e-43ee-a575-beed4f8a00b6",
   "metadata": {},
   "outputs": [
    {
     "name": "stdout",
     "output_type": "stream",
     "text": [
      "Addition: [5 7 9]\n",
      "Multiplication: [ 4 10 18]\n",
      "Square each element: [1 4 9]\n"
     ]
    }
   ],
   "source": [
    "a = np.array([1, 2, 3])\n",
    "b = np.array([4, 5, 6])\n",
    "\n",
    "print(f\"Addition: {a + b}\")\n",
    "print(f\"Multiplication: {a * b}\")\n",
    "print(f\"Square each element: {a ** 2}\")"
   ]
  },
  {
   "cell_type": "markdown",
   "id": "76489998-c926-4e11-ab15-9abe73f28329",
   "metadata": {},
   "source": [
    "2. Dot product:<br/>\n",
    "<i>NB: The dot product works because we are using 1D arrays.</i>"
   ]
  },
  {
   "cell_type": "code",
   "execution_count": 55,
   "id": "3fb731b4-4e98-40a9-894f-3504902015bf",
   "metadata": {},
   "outputs": [
    {
     "name": "stdout",
     "output_type": "stream",
     "text": [
      "Dot product: 32\n"
     ]
    }
   ],
   "source": [
    "dot_product = np.dot(a, b)\n",
    "\n",
    "print(f\"Dot product: {dot_product}\")"
   ]
  },
  {
   "cell_type": "markdown",
   "id": "d191ff47-69d7-40bc-ad53-98f623481eef",
   "metadata": {},
   "source": [
    "3. Reshape an array:"
   ]
  },
  {
   "cell_type": "code",
   "execution_count": 61,
   "id": "880ad22c-f0f3-4192-bc4c-851c5b9e99e8",
   "metadata": {},
   "outputs": [
    {
     "name": "stdout",
     "output_type": "stream",
     "text": [
      "[[ 0  1  2  3]\n",
      " [ 4  5  6  7]\n",
      " [ 8  9 10 11]]\n"
     ]
    }
   ],
   "source": [
    "arr = np.arange(12)\n",
    "reshaped = arr.reshape(3, 4)\n",
    "\n",
    "print(reshaped)"
   ]
  },
  {
   "cell_type": "markdown",
   "id": "a491c0fe-3a68-436b-bcd0-b1d3e92715b6",
   "metadata": {},
   "source": [
    "## Exercise 3: Indexing and Slicing\n",
    "**Objective:** Access and modify array elements.\n",
    "\n",
    "**One-dimensional** arrays can be indexed, sliced and iterated over, much like lists and other Python sequences."
   ]
  },
  {
   "cell_type": "code",
   "execution_count": 102,
   "id": "513179b7-b34d-43e4-b45d-48ef73a2751e",
   "metadata": {},
   "outputs": [
    {
     "name": "stdout",
     "output_type": "stream",
     "text": [
      "[  0   1   8  27  64 125 216 343 512 729]\n",
      "Element at index 2 (3rd pos): 8\n",
      "From index 2 inclusive (3rd pos) to index 5 exclusive (6th pos) [ 8 27 64]\n",
      "From start to index 6 (7th pos), exclusive, set every 2nd element to 1000\n",
      "1000\n",
      "1\n",
      "1000\n",
      "27\n",
      "1000\n",
      "125\n",
      "216\n",
      "343\n",
      "512\n",
      "729\n"
     ]
    }
   ],
   "source": [
    "a = np.arange(10)**3\n",
    "print(a)\n",
    "\n",
    "# indexing\n",
    "print(f\"Element at index 2 (3rd pos): {a[2]}\")\n",
    "\n",
    "# slicing\n",
    "print(f\"From index 2 inclusive (3rd pos) to index 5 exclusive (6th pos) {a[2:5]}\")\n",
    "a[:6:2] = 1000\n",
    "print(\"From start to index 6 (7th pos), exclusive, set every 2nd element to 1000\")\n",
    "\n",
    "# iterating\n",
    "for i in a:\n",
    "    print(i)"
   ]
  },
  {
   "cell_type": "markdown",
   "id": "0eec6033-588c-4baf-a2eb-cf5c89a08de7",
   "metadata": {},
   "source": [
    "**Multidimensional** arrays can have one index per axis. These indices are given in a tuple separated by commas:"
   ]
  },
  {
   "cell_type": "code",
   "execution_count": 100,
   "id": "b6c3bfa1-341f-47f7-b1df-0075970cd4c1",
   "metadata": {},
   "outputs": [
    {
     "name": "stdout",
     "output_type": "stream",
     "text": [
      "[[ 0  1  2  3]\n",
      " [10 11 12 13]\n",
      " [20 21 22 23]\n",
      " [30 31 32 33]\n",
      " [40 41 42 43]]\n",
      "Element at row index 2 and col index 3: 23\n",
      "Each row in the second column [ 1 11 21 31 41]\n",
      "Missing indices are default to complete slice: [40 41 42 43]\n",
      "Iterating over row:\n",
      "[0 1 2 3]\n",
      "[10 11 12 13]\n",
      "[20 21 22 23]\n",
      "[30 31 32 33]\n",
      "[40 41 42 43]\n",
      "Iterating over each element:\n",
      "0\n",
      "1\n",
      "2\n",
      "3\n",
      "10\n",
      "11\n",
      "12\n",
      "13\n",
      "20\n",
      "21\n",
      "22\n",
      "23\n",
      "30\n",
      "31\n",
      "32\n",
      "33\n",
      "40\n",
      "41\n",
      "42\n",
      "43\n"
     ]
    }
   ],
   "source": [
    "def f(x, y):\n",
    "    return 10 * x + y\n",
    "\n",
    "b = np.fromfunction(f, (5, 4), dtype=int)\n",
    "print(b)\n",
    "\n",
    "# indexing\n",
    "print(f\"Element at row index 2 and col index 3: {b[2, 3]}\")\n",
    "\n",
    "# slicing\n",
    "# equivalent to b[0:5, 1]\n",
    "print(f\"Each row in the second column {b[:, 1]}\")\n",
    "print(f\"Missing indices are default to complete slice: {b[-1]}\")\n",
    "\n",
    "# iterating\n",
    "print(\"Iterating over row:\")\n",
    "for row in b:\n",
    "    print(row)\n",
    "\n",
    "print(\"Iterating over each element:\")\n",
    "for el in b.flat:\n",
    "    print(el)"
   ]
  },
  {
   "cell_type": "markdown",
   "id": "d3dc62c2-2bbc-4561-95a1-0a98e91fd1ca",
   "metadata": {},
   "source": [
    "## Exercice 4: Array Aggregation\n",
    "**Objective**: Use NumPy to compute statistics.\n",
    "\n",
    "1. Sum, mean, and standard deviation:"
   ]
  },
  {
   "cell_type": "code",
   "execution_count": 111,
   "id": "0f21a445-a268-44db-9b26-057c28a5a626",
   "metadata": {},
   "outputs": [
    {
     "name": "stdout",
     "output_type": "stream",
     "text": [
      "Sum of all elements: 21\n",
      "Mean of each column (axis 0): [2.5 3.5 4.5]\n",
      "Standard deviation: 1.707825127659933\n"
     ]
    }
   ],
   "source": [
    "arr = np.array([[1, 2, 3], \n",
    "                [4, 5, 6]])\n",
    "\n",
    "print(f\"Sum of all elements: {np.sum(arr)}\")\n",
    "print(f\"Mean of each column (axis 0): {np.mean(arr, axis=0)}\")\n",
    "print(f\"Standard deviation: {np.std(arr)}\")"
   ]
  },
  {
   "cell_type": "markdown",
   "id": "936fc1f2-feff-431e-8088-dd8611c89bc5",
   "metadata": {},
   "source": [
    "2. Min and max:"
   ]
  },
  {
   "cell_type": "code",
   "execution_count": 118,
   "id": "8b33ac7d-a8a3-418f-aba5-7b03d54dc12d",
   "metadata": {},
   "outputs": [
    {
     "name": "stdout",
     "output_type": "stream",
     "text": [
      "Min of the matrix: 1\n",
      "Max of each row (axis 1): [3 6]\n"
     ]
    }
   ],
   "source": [
    "print(f\"Min of the matrix: {np.min(arr)}\")\n",
    "print(f\"Max of each row (axis 1): {np.max(arr, axis=1)}\")"
   ]
  },
  {
   "cell_type": "markdown",
   "id": "9e77e3fa-5bd8-4c99-99ce-2aec9ddeaac9",
   "metadata": {},
   "source": [
    "## Exercice 5: Broadcasting\n",
    "**Objective**: Understand how NumPy handles operations on arrays of different shapes.\n",
    "\n",
    "1. Add a scalar to an array:"
   ]
  },
  {
   "cell_type": "code",
   "execution_count": 8,
   "id": "93add702-dc2d-4dec-9a4e-0fbfed2c6531",
   "metadata": {},
   "outputs": [
    {
     "name": "stdout",
     "output_type": "stream",
     "text": [
      "[6 7 8]\n"
     ]
    }
   ],
   "source": [
    "a = np.array([1, 2, 3])\n",
    "print(a + 5)"
   ]
  },
  {
   "cell_type": "markdown",
   "id": "549ead0f-ebd6-41f7-b6af-5dd14cba19e8",
   "metadata": {},
   "source": [
    "2. Add arrays with different shapes:"
   ]
  },
  {
   "cell_type": "code",
   "execution_count": 21,
   "id": "4addcc38-6aa0-4c9c-a032-73653d763c50",
   "metadata": {},
   "outputs": [
    {
     "name": "stdout",
     "output_type": "stream",
     "text": [
      "[[11 22 33]\n",
      " [14 25 36]]\n"
     ]
    }
   ],
   "source": [
    "a = np.array([[1, 2, 3], [4, 5, 6]])\n",
    "b = np.array([10, 20, 30])\n",
    "print(a + b)"
   ]
  },
  {
   "cell_type": "markdown",
   "id": "1f2f7f05-fddf-44da-8cf9-38e753ecedc0",
   "metadata": {},
   "source": [
    "### Example of Broadcasting Rules\n",
    "We are trying to add a(3,4) with b(3,3)"
   ]
  },
  {
   "cell_type": "code",
   "execution_count": 12,
   "id": "35ee1526-4d69-46ba-a78e-1a5fc60aecad",
   "metadata": {},
   "outputs": [
    {
     "name": "stdout",
     "output_type": "stream",
     "text": [
      "Error: operands could not be broadcast together with shapes (3,4) (3,3) \n"
     ]
    }
   ],
   "source": [
    "# Array 1: Shape (3, 4)\n",
    "a = np.array([[1, 2, 3, 4],\n",
    "              [5, 6, 7, 8],\n",
    "              [9, 10, 11, 12]])\n",
    "\n",
    "# Array 2: Shape (3, 3) - Incompatible with Array 1\n",
    "b = np.array([[1, 2, 3],\n",
    "              [4, 5, 6],\n",
    "              [7, 8, 9]])\n",
    "\n",
    "# Attempt to add the arrays\n",
    "try:\n",
    "    result = a + b\n",
    "except ValueError as e:\n",
    "    print(f\"Error: {e}\")"
   ]
  },
  {
   "cell_type": "markdown",
   "id": "04d23ac4-dc68-4e2a-9ca5-e37a27269b4b",
   "metadata": {},
   "source": [
    "### Explanation of the Error\n",
    "- **Shape of** `a`: (3, 4)\n",
    "- **Shape of** `b`: (3, 3)\n",
    "<br/>\n",
    "\n",
    "The shapes are incompatible because:\n",
    "- The second dimension of a (size 4) **does not match the second dimension** of b (size 3).\n",
    "- **Neither array has a size of 1** in the mismatched dimension, so broadcasting cannot occur.\n",
    "\n",
    "\n",
    "## Exercise 6: Random Numbers\n",
    "**Objective:** Generate and use random numbers.\n",
    "\n",
    "1. Generate random numbers:"
   ]
  },
  {
   "cell_type": "code",
   "execution_count": 45,
   "id": "b6b9070a-496a-47ef-b830-7e504e4d2f1f",
   "metadata": {},
   "outputs": [
    {
     "name": "stdout",
     "output_type": "stream",
     "text": [
      "[[0.40806233 0.30552331 0.23931116]\n",
      " [0.00543178 0.82666763 0.97354975]\n",
      " [0.70812338 0.78356729 0.16341049]]\n"
     ]
    }
   ],
   "source": [
    "random_arr = np.random.rand(3, 3)\n",
    "print(random_arr)"
   ]
  },
  {
   "cell_type": "markdown",
   "id": "f1e0edbc-669d-412c-87ea-a6d77335a215",
   "metadata": {},
   "source": [
    "2. Generate random integers:"
   ]
  },
  {
   "cell_type": "code",
   "execution_count": 48,
   "id": "3652b306-13a8-41bf-98cf-88cbcc7cd761",
   "metadata": {},
   "outputs": [
    {
     "name": "stdout",
     "output_type": "stream",
     "text": [
      "[[6 7 7 4]\n",
      " [0 5 0 5]]\n"
     ]
    }
   ],
   "source": [
    "random_ints = np.random.randint(0, 10, size=(2, 4))\n",
    "print(random_ints)"
   ]
  },
  {
   "cell_type": "markdown",
   "id": "3994bb3b-bace-4a41-8ba0-19fcbcf189aa",
   "metadata": {},
   "source": [
    "## Exercise 7: Advanced Operations\n",
    "**Objective**: Explore advanced NumPy features.\n",
    "\n",
    "1. Matrix multiplication:"
   ]
  },
  {
   "cell_type": "code",
   "execution_count": 52,
   "id": "50a184e4-cb34-47d4-97ea-717f3166c969",
   "metadata": {},
   "outputs": [
    {
     "name": "stdout",
     "output_type": "stream",
     "text": [
      "[[19 22]\n",
      " [43 50]]\n"
     ]
    }
   ],
   "source": [
    "a = np.array([[1, 2], [3, 4]])\n",
    "b = np.array([[5, 6], [7, 8]])\n",
    "print(np.matmul(a, b))"
   ]
  },
  {
   "cell_type": "markdown",
   "id": "9007c887-20f9-4780-baf0-71d2808546e7",
   "metadata": {},
   "source": [
    "2. Transpose a matrix:"
   ]
  },
  {
   "cell_type": "code",
   "execution_count": 55,
   "id": "438391a5-9548-49d5-ac0f-f63dd6117fc5",
   "metadata": {},
   "outputs": [
    {
     "name": "stdout",
     "output_type": "stream",
     "text": [
      "[[1 3]\n",
      " [2 4]]\n"
     ]
    }
   ],
   "source": [
    "print(a.T)"
   ]
  },
  {
   "cell_type": "markdown",
   "id": "4b0e4c5f-2384-4dce-90be-3cc562093cb9",
   "metadata": {},
   "source": [
    "3. Find unique elements:"
   ]
  },
  {
   "cell_type": "code",
   "execution_count": 58,
   "id": "1b942d61-ff0a-437a-8d1a-9cf9d14bc061",
   "metadata": {},
   "outputs": [
    {
     "name": "stdout",
     "output_type": "stream",
     "text": [
      "[1 2 3 4]\n"
     ]
    }
   ],
   "source": [
    "arr = np.array([1, 2, 2, 3, 4, 4, 4])\n",
    "print(np.unique(arr))"
   ]
  },
  {
   "cell_type": "markdown",
   "id": "3b4431df-69e6-46ca-8dc7-ef9ab1c46139",
   "metadata": {},
   "source": [
    "## Exercise 8: Real-World Application\n",
    "**Objective**: Apply NumPy to a real-world dataset.\n",
    "\n",
    "1. Load a dataset:"
   ]
  },
  {
   "cell_type": "code",
   "execution_count": 64,
   "id": "f74d224c-c292-4b3b-9bf1-a51f2a6a27fc",
   "metadata": {},
   "outputs": [
    {
     "name": "stdout",
     "output_type": "stream",
     "text": [
      "[[22.      7.25  ]\n",
      " [38.     71.2833]\n",
      " [26.      7.925 ]\n",
      " ...\n",
      " [    nan 23.45  ]\n",
      " [26.     30.    ]\n",
      " [32.      7.75  ]]\n"
     ]
    }
   ],
   "source": [
    "df = pd.read_csv(\"https://raw.githubusercontent.com/datasciencedojo/datasets/master/titanic.csv\")\n",
    "arr = df[[\"Age\", \"Fare\"]].to_numpy()\n",
    "print(arr)"
   ]
  },
  {
   "cell_type": "markdown",
   "id": "9f827389-3a6c-44a1-9c5f-eefc66e62d5f",
   "metadata": {},
   "source": [
    "2. Describe method of pandas:"
   ]
  },
  {
   "cell_type": "code",
   "execution_count": 118,
   "id": "a1c074de-078a-46f3-9c5f-4efe6c8f444b",
   "metadata": {},
   "outputs": [
    {
     "name": "stdout",
     "output_type": "stream",
     "text": [
      "Count: 1782\n",
      "Mean: 31.0898\n",
      "Std: 38.2706\n",
      "Min: 0.0\n",
      "25%: 10.4625\n",
      "50%: 24.0\n",
      "75%: 36.0\n",
      "Max: 512.3292\n",
      "Type: float64\n"
     ]
    }
   ],
   "source": [
    "print(f\"Count: {arr.size}\")\n",
    "print(f\"Mean: {np.nanmean(arr).round(4)}\")\n",
    "print(f\"Std: {np.nanstd(arr).round(4)}\")\n",
    "print(f\"Min: {np.nanmin(arr)}\")\n",
    "print(f\"25%: {np.nanpercentile(arr, 25).round(4)}\")\n",
    "print(f\"50%: {np.nanpercentile(arr, 50).round(4)}\")\n",
    "print(f\"75%: {np.nanpercentile(arr, 75).round(4)}\")\n",
    "print(f\"Max: {np.nanmax(arr)}\")\n",
    "print(f\"Type: {arr.dtype.name}\")"
   ]
  },
  {
   "cell_type": "code",
   "execution_count": null,
   "id": "ff1ca493-abab-4024-bfb0-568466f67a15",
   "metadata": {},
   "outputs": [],
   "source": []
  }
 ],
 "metadata": {
  "kernelspec": {
   "display_name": "Python [conda env:base] *",
   "language": "python",
   "name": "conda-base-py"
  },
  "language_info": {
   "codemirror_mode": {
    "name": "ipython",
    "version": 3
   },
   "file_extension": ".py",
   "mimetype": "text/x-python",
   "name": "python",
   "nbconvert_exporter": "python",
   "pygments_lexer": "ipython3",
   "version": "3.12.7"
  }
 },
 "nbformat": 4,
 "nbformat_minor": 5
}
