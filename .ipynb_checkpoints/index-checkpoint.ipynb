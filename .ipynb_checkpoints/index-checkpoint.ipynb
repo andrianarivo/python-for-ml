{
 "cells": [
  {
   "cell_type": "code",
   "execution_count": 1,
   "id": "f684e16b-0128-40c5-a3fd-f5b486140d95",
   "metadata": {},
   "outputs": [],
   "source": [
    "import numpy as np"
   ]
  },
  {
   "cell_type": "markdown",
   "id": "7bd5da5c-394b-4ba9-97f3-337492019a92",
   "metadata": {},
   "source": [
    "## Exercise 1: Creating Arrays\n",
    "**Objective:** Learn to create and manipulate NumPy arrays.\n",
    "\n",
    "1. Create 1D array:"
   ]
  },
  {
   "cell_type": "code",
   "execution_count": 17,
   "id": "fd258797-c4a1-411c-aa43-031a652aa754",
   "metadata": {},
   "outputs": [
    {
     "data": {
      "text/plain": [
       "array([1, 2, 3])"
      ]
     },
     "execution_count": 17,
     "metadata": {},
     "output_type": "execute_result"
    }
   ],
   "source": [
    "arr = np.array([1, 2, 3])\n",
    "arr"
   ]
  },
  {
   "cell_type": "markdown",
   "id": "0f71251a-71d5-4f3f-aee6-c0221e9ba5cf",
   "metadata": {},
   "source": [
    "2. Create 2D array:"
   ]
  },
  {
   "cell_type": "code",
   "execution_count": 19,
   "id": "ca3ca9ee-5297-46d8-8dd7-a4816e377a70",
   "metadata": {},
   "outputs": [
    {
     "data": {
      "text/plain": [
       "array([[1, 2, 3],\n",
       "       [4, 5, 6]])"
      ]
     },
     "execution_count": 19,
     "metadata": {},
     "output_type": "execute_result"
    }
   ],
   "source": [
    "arr_2d = np.array([[1, 2, 3],\n",
    "                   [4, 5, 6]])\n",
    "arr_2d"
   ]
  },
  {
   "cell_type": "markdown",
   "id": "d5d49640-c31b-4bf3-8007-7f089bb8143d",
   "metadata": {},
   "source": [
    "3. Create arrays with built-in functions:"
   ]
  },
  {
   "cell_type": "code",
   "execution_count": 15,
   "id": "907499f6-9974-40fc-bbe0-afff7cb7dd94",
   "metadata": {},
   "outputs": [
    {
     "name": "stdout",
     "output_type": "stream",
     "text": [
      "[[0. 0. 0.]\n",
      " [0. 0. 0.]\n",
      " [0. 0. 0.]]\n",
      "[[1. 1. 1. 1.]\n",
      " [1. 1. 1. 1.]]\n",
      "[0 1 2 3 4 5 6 7 8 9]\n"
     ]
    }
   ],
   "source": [
    "zeros = np.zeros((3, 3))\n",
    "ones = np.ones((2, 4))\n",
    "range_arr = np.arange(10)\n",
    "\n",
    "print(zeros)\n",
    "print(ones)\n",
    "print(range_arr)"
   ]
  },
  {
   "cell_type": "markdown",
   "id": "202de65a-1570-4224-b251-04199a683e85",
   "metadata": {},
   "source": [
    "The more important attributes of an `ndarray` object:\n",
    "\n",
    "- **ndim**: number of dimensions of the array (ex: 3D)\n",
    "- **shape**: (n, m)\n",
    "- **size**: total number of elements of the array\n",
    "- **dtype**: <em>(object)</em> [doc](https://numpy.org/doc/stable/reference/arrays.dtypes.html#arrays-dtypes) refer to the sidebar for a list of attributes of dtype\n",
    "- **itemsize**: bytes size of each element\n",
    "- **data**: buffer of elements"
   ]
  },
  {
   "cell_type": "code",
   "execution_count": 46,
   "id": "a50e11b9-448e-43d2-86d8-0338a18e91f2",
   "metadata": {},
   "outputs": [
    {
     "name": "stdout",
     "output_type": "stream",
     "text": [
      "[[[ 0  1  2]\n",
      "  [ 3  4  5]\n",
      "  [ 6  7  8]]\n",
      "\n",
      " [[ 9 10 11]\n",
      "  [12 13 14]\n",
      "  [15 16 17]]\n",
      "\n",
      " [[18 19 20]\n",
      "  [21 22 23]\n",
      "  [24 25 26]]]\n",
      "Matrix of (3, 3, 3) elements\n",
      "This is a 3D matrix\n",
      "Elements are of type: int64\n",
      "Each element has a size of: 8 bytes\n",
      "The matrix has 27 elements\n",
      "<class 'numpy.ndarray'>\n"
     ]
    }
   ],
   "source": [
    "a = np.arange(27).reshape(3, 3, 3)\n",
    "\n",
    "print(a)\n",
    "\n",
    "print(f\"Matrix of {a.shape} elements\")\n",
    "print(f\"This is a {a.ndim}D matrix\")\n",
    "print(f\"Elements are of type: {a.dtype.name}\")\n",
    "print(f\"Each element has a size of: {a.itemsize} bytes\")\n",
    "print(f\"The matrix has {a.size} elements\")\n",
    "\n",
    "print(type(a))"
   ]
  },
  {
   "cell_type": "markdown",
   "id": "6feb3cc6-5d99-4899-b4b2-5186bec865e8",
   "metadata": {},
   "source": [
    "## Excercise 2: Array operations\n",
    "**Objective**: Perform basic arithmetic and manipulation on arrays\n",
    "\n",
    "1. Element-wise operations:"
   ]
  },
  {
   "cell_type": "code",
   "execution_count": 52,
   "id": "91965130-891e-43ee-a575-beed4f8a00b6",
   "metadata": {},
   "outputs": [
    {
     "name": "stdout",
     "output_type": "stream",
     "text": [
      "Addition: [5 7 9]\n",
      "Multiplication: [ 4 10 18]\n",
      "Square each element: [1 4 9]\n"
     ]
    }
   ],
   "source": [
    "a = np.array([1, 2, 3])\n",
    "b = np.array([4, 5, 6])\n",
    "\n",
    "print(f\"Addition: {a + b}\")\n",
    "print(f\"Multiplication: {a * b}\")\n",
    "print(f\"Square each element: {a ** 2}\")"
   ]
  },
  {
   "cell_type": "markdown",
   "id": "76489998-c926-4e11-ab15-9abe73f28329",
   "metadata": {},
   "source": [
    "2. Dot product:<br/>\n",
    "<i>NB: The dot product works because we are using 1D arrays.</i>"
   ]
  },
  {
   "cell_type": "code",
   "execution_count": 55,
   "id": "3fb731b4-4e98-40a9-894f-3504902015bf",
   "metadata": {},
   "outputs": [
    {
     "name": "stdout",
     "output_type": "stream",
     "text": [
      "Dot product: 32\n"
     ]
    }
   ],
   "source": [
    "dot_product = np.dot(a, b)\n",
    "\n",
    "print(f\"Dot product: {dot_product}\")"
   ]
  },
  {
   "cell_type": "markdown",
   "id": "d191ff47-69d7-40bc-ad53-98f623481eef",
   "metadata": {},
   "source": [
    "3. Reshape an array:"
   ]
  },
  {
   "cell_type": "code",
   "execution_count": 61,
   "id": "880ad22c-f0f3-4192-bc4c-851c5b9e99e8",
   "metadata": {},
   "outputs": [
    {
     "name": "stdout",
     "output_type": "stream",
     "text": [
      "[[ 0  1  2  3]\n",
      " [ 4  5  6  7]\n",
      " [ 8  9 10 11]]\n"
     ]
    }
   ],
   "source": [
    "arr = np.arange(12)\n",
    "reshaped = arr.reshape(3, 4)\n",
    "\n",
    "print(reshaped)"
   ]
  },
  {
   "cell_type": "markdown",
   "id": "a491c0fe-3a68-436b-bcd0-b1d3e92715b6",
   "metadata": {},
   "source": [
    "## Exercise 3: Indexing and Slicing\n",
    "**Objective:** Access and modify array elements.\n",
    "\n",
    "**One-dimensional** arrays can be indexed, sliced and iterated over, much like lists and other Python sequences."
   ]
  },
  {
   "cell_type": "code",
   "execution_count": 102,
   "id": "513179b7-b34d-43e4-b45d-48ef73a2751e",
   "metadata": {},
   "outputs": [
    {
     "name": "stdout",
     "output_type": "stream",
     "text": [
      "[  0   1   8  27  64 125 216 343 512 729]\n",
      "Element at index 2 (3rd pos): 8\n",
      "From index 2 inclusive (3rd pos) to index 5 exclusive (6th pos) [ 8 27 64]\n",
      "From start to index 6 (7th pos), exclusive, set every 2nd element to 1000\n",
      "1000\n",
      "1\n",
      "1000\n",
      "27\n",
      "1000\n",
      "125\n",
      "216\n",
      "343\n",
      "512\n",
      "729\n"
     ]
    }
   ],
   "source": [
    "a = np.arange(10)**3\n",
    "print(a)\n",
    "\n",
    "# indexing\n",
    "print(f\"Element at index 2 (3rd pos): {a[2]}\")\n",
    "\n",
    "# slicing\n",
    "print(f\"From index 2 inclusive (3rd pos) to index 5 exclusive (6th pos) {a[2:5]}\")\n",
    "a[:6:2] = 1000\n",
    "print(\"From start to index 6 (7th pos), exclusive, set every 2nd element to 1000\")\n",
    "\n",
    "# iterating\n",
    "for i in a:\n",
    "    print(i)"
   ]
  },
  {
   "cell_type": "markdown",
   "id": "0eec6033-588c-4baf-a2eb-cf5c89a08de7",
   "metadata": {},
   "source": [
    "**Multidimensional** arrays can have one index per axis. These indices are given in a tuple separated by commas:"
   ]
  },
  {
   "cell_type": "code",
   "execution_count": 100,
   "id": "b6c3bfa1-341f-47f7-b1df-0075970cd4c1",
   "metadata": {},
   "outputs": [
    {
     "name": "stdout",
     "output_type": "stream",
     "text": [
      "[[ 0  1  2  3]\n",
      " [10 11 12 13]\n",
      " [20 21 22 23]\n",
      " [30 31 32 33]\n",
      " [40 41 42 43]]\n",
      "Element at row index 2 and col index 3: 23\n",
      "Each row in the second column [ 1 11 21 31 41]\n",
      "Missing indices are default to complete slice: [40 41 42 43]\n",
      "Iterating over row:\n",
      "[0 1 2 3]\n",
      "[10 11 12 13]\n",
      "[20 21 22 23]\n",
      "[30 31 32 33]\n",
      "[40 41 42 43]\n",
      "Iterating over each element:\n",
      "0\n",
      "1\n",
      "2\n",
      "3\n",
      "10\n",
      "11\n",
      "12\n",
      "13\n",
      "20\n",
      "21\n",
      "22\n",
      "23\n",
      "30\n",
      "31\n",
      "32\n",
      "33\n",
      "40\n",
      "41\n",
      "42\n",
      "43\n"
     ]
    }
   ],
   "source": [
    "def f(x, y):\n",
    "    return 10 * x + y\n",
    "\n",
    "b = np.fromfunction(f, (5, 4), dtype=int)\n",
    "print(b)\n",
    "\n",
    "# indexing\n",
    "print(f\"Element at row index 2 and col index 3: {b[2, 3]}\")\n",
    "\n",
    "# slicing\n",
    "# equivalent to b[0:5, 1]\n",
    "print(f\"Each row in the second column {b[:, 1]}\")\n",
    "print(f\"Missing indices are default to complete slice: {b[-1]}\")\n",
    "\n",
    "# iterating\n",
    "print(\"Iterating over row:\")\n",
    "for row in b:\n",
    "    print(row)\n",
    "\n",
    "print(\"Iterating over each element:\")\n",
    "for el in b.flat:\n",
    "    print(el)"
   ]
  },
  {
   "cell_type": "markdown",
   "id": "d3dc62c2-2bbc-4561-95a1-0a98e91fd1ca",
   "metadata": {},
   "source": [
    "## Exercice 4: Array Aggregation\n",
    "**Objective**: Use NumPy to compute statistics.\n",
    "\n",
    "1. Sum, mean, and standard deviation:"
   ]
  },
  {
   "cell_type": "code",
   "execution_count": 111,
   "id": "0f21a445-a268-44db-9b26-057c28a5a626",
   "metadata": {},
   "outputs": [
    {
     "name": "stdout",
     "output_type": "stream",
     "text": [
      "Sum of all elements: 21\n",
      "Mean of each column (axis 0): [2.5 3.5 4.5]\n",
      "Standard deviation: 1.707825127659933\n"
     ]
    }
   ],
   "source": [
    "arr = np.array([[1, 2, 3], \n",
    "                [4, 5, 6]])\n",
    "\n",
    "print(f\"Sum of all elements: {np.sum(arr)}\")\n",
    "print(f\"Mean of each column (axis 0): {np.mean(arr, axis=0)}\")\n",
    "print(f\"Standard deviation: {np.std(arr)}\")"
   ]
  },
  {
   "cell_type": "markdown",
   "id": "936fc1f2-feff-431e-8088-dd8611c89bc5",
   "metadata": {},
   "source": [
    "2. Min and max:"
   ]
  },
  {
   "cell_type": "code",
   "execution_count": 118,
   "id": "8b33ac7d-a8a3-418f-aba5-7b03d54dc12d",
   "metadata": {},
   "outputs": [
    {
     "name": "stdout",
     "output_type": "stream",
     "text": [
      "Min of the matrix: 1\n",
      "Max of each row (axis 1): [3 6]\n"
     ]
    }
   ],
   "source": [
    "print(f\"Min of the matrix: {np.min(arr)}\")\n",
    "print(f\"Max of each row (axis 1): {np.max(arr, axis=1)}\")"
   ]
  },
  {
   "cell_type": "code",
   "execution_count": null,
   "id": "34ff43d9-4974-41bc-b907-dfd19ce88670",
   "metadata": {},
   "outputs": [],
   "source": []
  }
 ],
 "metadata": {
  "kernelspec": {
   "display_name": "Python [conda env:base] *",
   "language": "python",
   "name": "conda-base-py"
  },
  "language_info": {
   "codemirror_mode": {
    "name": "ipython",
    "version": 3
   },
   "file_extension": ".py",
   "mimetype": "text/x-python",
   "name": "python",
   "nbconvert_exporter": "python",
   "pygments_lexer": "ipython3",
   "version": "3.12.7"
  }
 },
 "nbformat": 4,
 "nbformat_minor": 5
}
